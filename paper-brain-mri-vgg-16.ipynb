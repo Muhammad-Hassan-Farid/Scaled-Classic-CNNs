{
 "cells": [
  {
   "cell_type": "code",
   "execution_count": null,
   "metadata": {
    "execution": {
     "iopub.execute_input": "2025-04-30T03:23:26.143997Z",
     "iopub.status.busy": "2025-04-30T03:23:26.143680Z",
     "iopub.status.idle": "2025-04-30T03:23:46.349112Z",
     "shell.execute_reply": "2025-04-30T03:23:46.348204Z",
     "shell.execute_reply.started": "2025-04-30T03:23:26.143972Z"
    },
    "trusted": true
   },
   "outputs": [],
   "source": [
    "import numpy as np\n",
    "\n",
    "import cv2\n",
    "from statistics import median_high\n",
    "import os\n",
    "from sklearn.model_selection import train_test_split\n",
    "import matplotlib.pyplot as plt\n",
    "from keras.layers import Input, Conv2D, MaxPooling2D, GlobalAveragePooling2D, Dense, BatchNormalization, ZeroPadding2D,Activation, AveragePooling2D, concatenate\n",
    "from keras.models import Model\n",
    "from keras.optimizers import Adam\n",
    "from keras.utils import plot_model\n",
    "from keras.callbacks import ModelCheckpoint, EarlyStopping\n",
    "\n",
    "import tensorflow as tf\n",
    "from tensorflow.keras.utils import to_categorical\n",
    "from sklearn.preprocessing import LabelEncoder\n",
    "from sklearn.model_selection import train_test_split\n",
    "\n",
    "from sklearn.metrics import confusion_matrix, classification_report, recall_score, f1_score"
   ]
  },
  {
   "cell_type": "code",
   "execution_count": null,
   "metadata": {
    "execution": {
     "iopub.execute_input": "2025-04-30T03:23:46.351144Z",
     "iopub.status.busy": "2025-04-30T03:23:46.350514Z",
     "iopub.status.idle": "2025-04-30T03:23:46.356071Z",
     "shell.execute_reply": "2025-04-30T03:23:46.354705Z",
     "shell.execute_reply.started": "2025-04-30T03:23:46.351114Z"
    },
    "trusted": true
   },
   "outputs": [],
   "source": [
    "path_train = \"Datasest/\""
   ]
  },
  {
   "cell_type": "code",
   "execution_count": null,
   "metadata": {
    "execution": {
     "iopub.execute_input": "2025-04-30T03:23:46.357536Z",
     "iopub.status.busy": "2025-04-30T03:23:46.357184Z",
     "iopub.status.idle": "2025-04-30T03:23:46.394124Z",
     "shell.execute_reply": "2025-04-30T03:23:46.393116Z",
     "shell.execute_reply.started": "2025-04-30T03:23:46.357506Z"
    },
    "trusted": true
   },
   "outputs": [],
   "source": [
    "class_names = ['glioma', 'meningioma', 'notumor', 'pituitary']\n",
    "class_labels = {}\n",
    "for i, classes in enumerate(class_names, start=0):\n",
    "  class_labels[classes] = i"
   ]
  },
  {
   "cell_type": "code",
   "execution_count": null,
   "metadata": {
    "execution": {
     "iopub.execute_input": "2025-04-30T03:23:46.396754Z",
     "iopub.status.busy": "2025-04-30T03:23:46.396405Z",
     "iopub.status.idle": "2025-04-30T03:23:46.409264Z",
     "shell.execute_reply": "2025-04-30T03:23:46.408303Z",
     "shell.execute_reply.started": "2025-04-30T03:23:46.396730Z"
    },
    "trusted": true
   },
   "outputs": [],
   "source": [
    "image_size = (130, 130)"
   ]
  },
  {
   "cell_type": "code",
   "execution_count": null,
   "metadata": {
    "execution": {
     "iopub.execute_input": "2025-04-30T03:23:46.410725Z",
     "iopub.status.busy": "2025-04-30T03:23:46.410366Z",
     "iopub.status.idle": "2025-04-30T03:25:52.008597Z",
     "shell.execute_reply": "2025-04-30T03:25:52.007768Z",
     "shell.execute_reply.started": "2025-04-30T03:23:46.410696Z"
    },
    "trusted": true
   },
   "outputs": [],
   "source": [
    "#For Training data\n",
    "\n",
    "train_data = []\n",
    "train_labels = []\n",
    "\n",
    "for folder in os.listdir(path_train):\n",
    "    print(\"In folder: {}\".format(folder))\n",
    "    for file in os.listdir(os.path.join(path_train, folder)):\n",
    "        image_path = os.path.join(path_train, folder, file)\n",
    "        image = cv2.imread(image_path, cv2.IMREAD_GRAYSCALE)\n",
    "        image = cv2.resize(image, image_size)  # Resize the image using image_size\n",
    "        train_data.append(image)\n",
    "        train_labels.append(class_labels[folder])\n",
    "\n",
    "train_data = np.array(train_data, dtype='float32')\n",
    "train_labels = np.array(train_labels, dtype='int32')\n",
    "\n",
    "train_data = train_data / 255.0 "
   ]
  },
  {
   "cell_type": "code",
   "execution_count": null,
   "metadata": {
    "execution": {
     "iopub.execute_input": "2025-04-30T03:25:52.010202Z",
     "iopub.status.busy": "2025-04-30T03:25:52.009896Z",
     "iopub.status.idle": "2025-04-30T03:25:52.017227Z",
     "shell.execute_reply": "2025-04-30T03:25:52.016486Z",
     "shell.execute_reply.started": "2025-04-30T03:25:52.010173Z"
    },
    "trusted": true
   },
   "outputs": [],
   "source": [
    "train_data[0]"
   ]
  },
  {
   "cell_type": "code",
   "execution_count": null,
   "metadata": {
    "execution": {
     "iopub.execute_input": "2025-04-30T03:25:52.018236Z",
     "iopub.status.busy": "2025-04-30T03:25:52.018033Z",
     "iopub.status.idle": "2025-04-30T03:25:52.401345Z",
     "shell.execute_reply": "2025-04-30T03:25:52.400413Z",
     "shell.execute_reply.started": "2025-04-30T03:25:52.018218Z"
    },
    "trusted": true
   },
   "outputs": [],
   "source": [
    "plt.imshow(train_data[0], cmap='gray')"
   ]
  },
  {
   "cell_type": "code",
   "execution_count": null,
   "metadata": {
    "execution": {
     "iopub.execute_input": "2025-04-30T03:25:52.402642Z",
     "iopub.status.busy": "2025-04-30T03:25:52.402368Z",
     "iopub.status.idle": "2025-04-30T03:25:52.411133Z",
     "shell.execute_reply": "2025-04-30T03:25:52.410181Z",
     "shell.execute_reply.started": "2025-04-30T03:25:52.402622Z"
    },
    "scrolled": true,
    "trusted": true
   },
   "outputs": [],
   "source": [
    "# Encode labels\n",
    "label_encoder = LabelEncoder()\n",
    "labels_encoded = label_encoder.fit_transform(train_labels)\n",
    "labels_encoded = to_categorical(labels_encoded)\n",
    "\n",
    "# Print the mapping of labels to their encoded values\n",
    "label_mapping = dict(zip(label_encoder.classes_, label_encoder.transform(label_encoder.classes_)))\n",
    "print(\"Label Mapping:\", label_mapping)"
   ]
  },
  {
   "cell_type": "code",
   "execution_count": null,
   "metadata": {
    "execution": {
     "iopub.execute_input": "2025-04-30T03:25:52.412692Z",
     "iopub.status.busy": "2025-04-30T03:25:52.412336Z",
     "iopub.status.idle": "2025-04-30T03:25:53.053316Z",
     "shell.execute_reply": "2025-04-30T03:25:53.052311Z",
     "shell.execute_reply.started": "2025-04-30T03:25:52.412663Z"
    },
    "trusted": true
   },
   "outputs": [],
   "source": [
    "# Split the dataset\n",
    "X_train, X_test, y_train, y_test = train_test_split(train_data, train_labels, test_size=0.3, random_state=42, shuffle=True)\n",
    "\n",
    "# Convert to numpy arrays and reshape\n",
    "X_train = np.array(X_train).reshape(-1, 130, 130, 1)\n",
    "X_test = np.array(X_test).reshape(-1, 130, 130, 1)\n",
    "\n",
    "# Define number of classes\n",
    "num_classes = len(np.unique(train_labels))\n",
    "\n",
    "print(num_classes)"
   ]
  },
  {
   "cell_type": "code",
   "execution_count": null,
   "metadata": {
    "execution": {
     "iopub.execute_input": "2025-04-30T03:25:53.056063Z",
     "iopub.status.busy": "2025-04-30T03:25:53.055793Z",
     "iopub.status.idle": "2025-04-30T03:25:54.759610Z",
     "shell.execute_reply": "2025-04-30T03:25:54.758802Z",
     "shell.execute_reply.started": "2025-04-30T03:25:53.056042Z"
    },
    "trusted": true
   },
   "outputs": [],
   "source": [
    "# Resize images before converting to numpy arrays\n",
    "X_train_resized = np.array([cv2.resize(img, (156, 156)) for img in X_train])\n",
    "X_test_resized = np.array([cv2.resize(img, (156, 156)) for img in X_test])\n",
    "\n",
    "# Reshape\n",
    "X_train_resized = X_train_resized.reshape(-1, 156, 156, 1)\n",
    "X_test_resized = X_test_resized.reshape(-1, 156, 156, 1)\n"
   ]
  },
  {
   "cell_type": "code",
   "execution_count": null,
   "metadata": {
    "execution": {
     "iopub.execute_input": "2025-04-30T03:25:54.760577Z",
     "iopub.status.busy": "2025-04-30T03:25:54.760312Z",
     "iopub.status.idle": "2025-04-30T03:25:54.766352Z",
     "shell.execute_reply": "2025-04-30T03:25:54.765367Z",
     "shell.execute_reply.started": "2025-04-30T03:25:54.760559Z"
    },
    "trusted": true
   },
   "outputs": [],
   "source": [
    "import numpy as np\n",
    "print(\"y_train classes:\", np.unique(y_train))\n",
    "print(\"y_test classes:\", np.unique(y_test))"
   ]
  },
  {
   "cell_type": "code",
   "execution_count": null,
   "metadata": {
    "execution": {
     "iopub.execute_input": "2025-04-30T03:25:54.767730Z",
     "iopub.status.busy": "2025-04-30T03:25:54.767299Z",
     "iopub.status.idle": "2025-04-30T03:25:54.780178Z",
     "shell.execute_reply": "2025-04-30T03:25:54.779127Z",
     "shell.execute_reply.started": "2025-04-30T03:25:54.767703Z"
    },
    "trusted": true
   },
   "outputs": [],
   "source": [
    "import keras\n",
    "y_train_categorical = keras.utils.to_categorical(y_train, num_classes=4)\n",
    "y_test_categorical = keras.utils.to_categorical(y_test, num_classes=4)\n",
    "\n",
    "# Verify the shape (should be (n_samples, 4) for both)\n",
    "print(\"y_train_categorical shape:\", y_train_categorical.shape)\n",
    "print(\"y_test_categorical shape:\", y_test_categorical.shape)"
   ]
  },
  {
   "cell_type": "markdown",
   "metadata": {},
   "source": [
    "# VGG-16"
   ]
  },
  {
   "cell_type": "code",
   "execution_count": null,
   "metadata": {
    "execution": {
     "iopub.execute_input": "2025-04-30T03:26:17.181274Z",
     "iopub.status.busy": "2025-04-30T03:26:17.180976Z",
     "iopub.status.idle": "2025-04-30T03:26:17.332182Z",
     "shell.execute_reply": "2025-04-30T03:26:17.331475Z",
     "shell.execute_reply.started": "2025-04-30T03:26:17.181254Z"
    },
    "trusted": true
   },
   "outputs": [],
   "source": [
    "import tensorflow as tf\n",
    "\n",
    "input_shape = (130, 130, 1)  # Grayscale input\n",
    "num_classes = 4\n",
    "\n",
    "model_vgg16 = tf.keras.Sequential([\n",
    "    # Block 1\n",
    "    tf.keras.layers.Conv2D(64, (3, 3), activation='relu', padding='same', input_shape=input_shape),\n",
    "    tf.keras.layers.Conv2D(64, (3, 3), activation='relu', padding='same'),\n",
    "    tf.keras.layers.MaxPooling2D((2, 2), strides=(2, 2)),\n",
    "\n",
    "    # Block 2\n",
    "    tf.keras.layers.Conv2D(128, (3, 3), activation='relu', padding='same'),\n",
    "    tf.keras.layers.Conv2D(128, (3, 3), activation='relu', padding='same'),\n",
    "    tf.keras.layers.MaxPooling2D((2, 2), strides=(2, 2)),\n",
    "\n",
    "    # Block 3\n",
    "    tf.keras.layers.Conv2D(256, (3, 3), activation='relu', padding='same'),\n",
    "    tf.keras.layers.Conv2D(256, (3, 3), activation='relu', padding='same'),\n",
    "    tf.keras.layers.Conv2D(256, (3, 3), activation='relu', padding='same'),\n",
    "    tf.keras.layers.MaxPooling2D((2, 2), strides=(2, 2)),\n",
    "\n",
    "    # Block 4\n",
    "    tf.keras.layers.Conv2D(512, (3, 3), activation='relu', padding='same'),\n",
    "    tf.keras.layers.Conv2D(512, (3, 3), activation='relu', padding='same'),\n",
    "    tf.keras.layers.Conv2D(512, (3, 3), activation='relu', padding='same'),\n",
    "    tf.keras.layers.MaxPooling2D((2, 2), strides=(2, 2)),\n",
    "\n",
    "    # Block 5\n",
    "    tf.keras.layers.Conv2D(512, (3, 3), activation='relu', padding='same'),\n",
    "    tf.keras.layers.Conv2D(512, (3, 3), activation='relu', padding='same'),\n",
    "    tf.keras.layers.Conv2D(512, (3, 3), activation='relu', padding='same'),\n",
    "    tf.keras.layers.MaxPooling2D((2, 2), strides=(2, 2)),\n",
    "\n",
    "    # Classification head\n",
    "    tf.keras.layers.Flatten(),\n",
    "    tf.keras.layers.Dense(4096, activation='relu'),\n",
    "    tf.keras.layers.Dropout(0.5),\n",
    "    tf.keras.layers.Dense(4096, activation='relu'),\n",
    "    tf.keras.layers.Dropout(0.5),\n",
    "    tf.keras.layers.Dense(4, activation='softmax')\n",
    "])"
   ]
  },
  {
   "cell_type": "code",
   "execution_count": null,
   "metadata": {
    "execution": {
     "iopub.execute_input": "2025-04-30T03:26:19.627841Z",
     "iopub.status.busy": "2025-04-30T03:26:19.627520Z",
     "iopub.status.idle": "2025-04-30T03:26:19.643396Z",
     "shell.execute_reply": "2025-04-30T03:26:19.642404Z",
     "shell.execute_reply.started": "2025-04-30T03:26:19.627818Z"
    },
    "trusted": true
   },
   "outputs": [],
   "source": [
    "model_vgg16.compile(optimizer=Adam(learning_rate=0.00001), loss='sparse_categorical_crossentropy', metrics=['accuracy'])"
   ]
  },
  {
   "cell_type": "code",
   "execution_count": null,
   "metadata": {
    "execution": {
     "iopub.execute_input": "2025-04-30T03:26:20.488740Z",
     "iopub.status.busy": "2025-04-30T03:26:20.488415Z",
     "iopub.status.idle": "2025-04-30T03:58:28.614855Z",
     "shell.execute_reply": "2025-04-30T03:58:28.613962Z",
     "shell.execute_reply.started": "2025-04-30T03:26:20.488717Z"
    },
    "trusted": true
   },
   "outputs": [],
   "source": [
    "from tensorflow.keras.callbacks import ModelCheckpoint, EarlyStopping\n",
    "\n",
    "# Define the path where the model with the best parameters will be saved\n",
    "checkpoint_path = \"best_model.keras\"\n",
    "\n",
    "# Create a callback that saves the model with the best validation accuracy\n",
    "checkpoint_callback = ModelCheckpoint(\n",
    "    filepath=checkpoint_path,\n",
    "    monitor='val_accuracy',  # Monitor validation accuracy\n",
    "    save_best_only=True,\n",
    "    save_weights_only=False,\n",
    "    mode='max',  # Save when val_accuracy is maximized\n",
    "    verbose=1\n",
    ")\n",
    "\n",
    "# Create an EarlyStopping callback with patience=5\n",
    "early_stopping_callback = EarlyStopping(\n",
    "    monitor='val_accuracy',  # Monitor validation accuracy\n",
    "    patience=5,  # Stop training if no improvement after 10 epochs\n",
    "    mode='max',  # Check for maximization of val_accuracy\n",
    "    verbose=1,\n",
    "    restore_best_weights=True  # Restore model weights from the epoch with the best validation accuracy\n",
    ")\n",
    "\n",
    "# Train the model with the checkpoint and early stopping callbacks\n",
    "history1 = model_vgg16.fit(X_train, y_train,\n",
    "                    validation_split=0.2,\n",
    "                    epochs=50,\n",
    "                    batch_size=32,\n",
    "                    callbacks=[checkpoint_callback, early_stopping_callback])"
   ]
  },
  {
   "cell_type": "markdown",
   "metadata": {},
   "source": [
    "# VGG-16 With EfficientNet Capabilities"
   ]
  },
  {
   "cell_type": "code",
   "execution_count": null,
   "metadata": {
    "execution": {
     "iopub.execute_input": "2025-04-30T04:19:39.935072Z",
     "iopub.status.busy": "2025-04-30T04:19:39.934447Z",
     "iopub.status.idle": "2025-04-30T04:19:40.107580Z",
     "shell.execute_reply": "2025-04-30T04:19:40.106834Z",
     "shell.execute_reply.started": "2025-04-30T04:19:39.935048Z"
    },
    "trusted": true
   },
   "outputs": [],
   "source": [
    "import tensorflow as tf\n",
    "\n",
    "input_shape = (156, 156, 1)  # Scaled resolution for grayscale input\n",
    "num_classes = 4\n",
    "\n",
    "model_vgg16_scaled = tf.keras.Sequential([\n",
    "    # Block 1: 2 Conv layers (original VGG16 count)\n",
    "    tf.keras.layers.Conv2D(77, (3, 3), activation='relu', padding='same', input_shape=input_shape),  # 64 * 1.2 = 77\n",
    "    tf.keras.layers.Conv2D(77, (3, 3), activation='relu', padding='same'),\n",
    "    tf.keras.layers.MaxPooling2D((2, 2), strides=(2, 2)),\n",
    "\n",
    "    # Block 2: 2 Conv layers (original VGG16 count)\n",
    "    tf.keras.layers.Conv2D(154, (3, 3), activation='relu', padding='same'),  # 128 * 1.2 = 154\n",
    "    tf.keras.layers.Conv2D(154, (3, 3), activation='relu', padding='same'),\n",
    "    tf.keras.layers.MaxPooling2D((2, 2), strides=(2, 2)),\n",
    "\n",
    "    # Block 3: 3 Conv layers (original VGG16 count)\n",
    "    tf.keras.layers.Conv2D(307, (3, 3), activation='relu', padding='same'),  # 256 * 1.2 = 307\n",
    "    tf.keras.layers.Conv2D(307, (3, 3), activation='relu', padding='same'),\n",
    "    tf.keras.layers.Conv2D(307, (3, 3), activation='relu', padding='same'),\n",
    "    tf.keras.layers.MaxPooling2D((2, 2), strides=(2, 2)),\n",
    "\n",
    "    # Block 4: 3 Conv layers (original VGG16 count)\n",
    "    tf.keras.layers.Conv2D(614, (3, 3), activation='relu', padding='same'),  # 512 * 1.2 = 614\n",
    "    tf.keras.layers.Conv2D(614, (3, 3), activation='relu', padding='same'),\n",
    "    tf.keras.layers.Conv2D(614, (3, 3), activation='relu', padding='same'),\n",
    "    tf.keras.layers.MaxPooling2D((2, 2), strides=(2, 2)),\n",
    "\n",
    "    # Block 5: 3 Conv layers (original VGG16 count)\n",
    "    tf.keras.layers.Conv2D(614, (3, 3), activation='relu', padding='same'),  # 512 * 1.2 = 614\n",
    "    tf.keras.layers.Conv2D(614, (3, 3), activation='relu', padding='same'),\n",
    "    tf.keras.layers.Conv2D(614, (3, 3), activation='relu', padding='same'),\n",
    "    tf.keras.layers.MaxPooling2D((2, 2), strides=(2, 2)),\n",
    "\n",
    "    # Classification head: 2 Dense layers (original VGG16 count)\n",
    "    tf.keras.layers.Flatten(),\n",
    "    tf.keras.layers.Dense(4920, activation='relu'),  # 4096 * 1.2 = 4920\n",
    "    tf.keras.layers.Dropout(0.5),\n",
    "    tf.keras.layers.Dense(4920, activation='relu'),  # 4096 * 1.2 = 4920\n",
    "    tf.keras.layers.Dropout(0.5),\n",
    "    tf.keras.layers.Dense(num_classes, activation='softmax')\n",
    "])"
   ]
  },
  {
   "cell_type": "code",
   "execution_count": null,
   "metadata": {
    "execution": {
     "iopub.execute_input": "2025-04-30T04:19:40.369908Z",
     "iopub.status.busy": "2025-04-30T04:19:40.369626Z",
     "iopub.status.idle": "2025-04-30T04:19:40.378972Z",
     "shell.execute_reply": "2025-04-30T04:19:40.378092Z",
     "shell.execute_reply.started": "2025-04-30T04:19:40.369889Z"
    },
    "trusted": true
   },
   "outputs": [],
   "source": [
    "model_vgg16_scaled_dense.compile(optimizer=Adam(learning_rate=0.000001), loss='sparse_categorical_crossentropy', metrics=['accuracy'])"
   ]
  },
  {
   "cell_type": "code",
   "execution_count": null,
   "metadata": {
    "execution": {
     "iopub.execute_input": "2025-04-30T04:19:40.863580Z",
     "iopub.status.busy": "2025-04-30T04:19:40.862673Z",
     "iopub.status.idle": "2025-04-30T06:54:14.236476Z",
     "shell.execute_reply": "2025-04-30T06:54:14.235507Z",
     "shell.execute_reply.started": "2025-04-30T04:19:40.863548Z"
    },
    "trusted": true
   },
   "outputs": [],
   "source": [
    "from tensorflow.keras.callbacks import ModelCheckpoint, EarlyStopping\n",
    "\n",
    "# Define the path where the model with the best parameters will be saved\n",
    "checkpoint_path = \"best_model.keras\"\n",
    "\n",
    "# Create a callback that saves the model with the best validation accuracy\n",
    "checkpoint_callback = ModelCheckpoint(\n",
    "    filepath=checkpoint_path,\n",
    "    monitor='val_accuracy',  # Monitor validation accuracy\n",
    "    save_best_only=True,\n",
    "    save_weights_only=False,\n",
    "    mode='max',  # Save when val_accuracy is maximized\n",
    "    verbose=1\n",
    ")\n",
    "\n",
    "# Create an EarlyStopping callback with patience=5\n",
    "early_stopping_callback = EarlyStopping(\n",
    "    monitor='val_accuracy',  # Monitor validation accuracy\n",
    "    patience=5,  # Stop training if no improvement after 10 epochs\n",
    "    mode='max',  # Check for maximization of val_accuracy\n",
    "    verbose=1,\n",
    "    restore_best_weights=True  # Restore model weights from the epoch with the best validation accuracy\n",
    ")\n",
    "\n",
    "# Train the model with the checkpoint and early stopping callbacks\n",
    "history2 = model_vgg16_scaled.fit(X_train_resized, y_train,\n",
    "                    validation_split=0.2,\n",
    "                    epochs=50,\n",
    "                    batch_size=32,\n",
    "                    callbacks=[checkpoint_callback, early_stopping_callback])"
   ]
  },
  {
   "cell_type": "code",
   "execution_count": null,
   "metadata": {
    "execution": {
     "iopub.execute_input": "2025-04-30T06:54:14.238612Z",
     "iopub.status.busy": "2025-04-30T06:54:14.238277Z",
     "iopub.status.idle": "2025-04-30T06:54:14.677188Z",
     "shell.execute_reply": "2025-04-30T06:54:14.676347Z",
     "shell.execute_reply.started": "2025-04-30T06:54:14.238586Z"
    },
    "trusted": true
   },
   "outputs": [],
   "source": [
    "plt.figure(figsize=(12, 6))\n",
    "\n",
    "# Accuracy\n",
    "plt.subplot(1, 2, 1)\n",
    "plt.plot(history1.history['accuracy'], label='Train Accuracy')\n",
    "plt.plot(history1.history['val_accuracy'], label='Val Accuracy', linestyle='--')\n",
    "plt.title('VGG-16 Accuracy')\n",
    "plt.xlabel('Epochs')\n",
    "plt.ylabel('Accuracy')\n",
    "plt.legend(loc='upper left')\n",
    "plt.grid(True)\n",
    "\n",
    "# Loss\n",
    "plt.subplot(1, 2, 2)\n",
    "plt.plot(history1.history['loss'], label='Train Loss')\n",
    "plt.plot(history1.history['val_loss'], label='Val Loss', linestyle='--')\n",
    "plt.title('VGG-16 Loss')\n",
    "plt.xlabel('Epochs')\n",
    "plt.ylabel('Loss')\n",
    "plt.legend(loc='upper right')\n",
    "plt.grid(True)\n",
    "\n",
    "plt.show()"
   ]
  },
  {
   "cell_type": "code",
   "execution_count": null,
   "metadata": {
    "execution": {
     "iopub.execute_input": "2025-04-30T06:54:14.678698Z",
     "iopub.status.busy": "2025-04-30T06:54:14.678324Z",
     "iopub.status.idle": "2025-04-30T06:54:15.082850Z",
     "shell.execute_reply": "2025-04-30T06:54:15.081907Z",
     "shell.execute_reply.started": "2025-04-30T06:54:14.678668Z"
    },
    "trusted": true
   },
   "outputs": [],
   "source": [
    "plt.figure(figsize=(12, 6))\n",
    "\n",
    "# Accuracy\n",
    "plt.subplot(1, 2, 1)\n",
    "plt.plot(history2.history['accuracy'], label='Train Accuracy')\n",
    "plt.plot(history2.history['val_accuracy'], label='Val Accuracy', linestyle='--')\n",
    "plt.title('VGG-16 Scaled Accuracy')\n",
    "plt.xlabel('Epochs')\n",
    "plt.ylabel('Accuracy')\n",
    "plt.legend(loc='upper left')\n",
    "plt.grid(True)\n",
    "\n",
    "# Loss\n",
    "plt.subplot(1, 2, 2)\n",
    "plt.plot(history2.history['loss'], label='Train Loss')\n",
    "plt.plot(history2.history['val_loss'], label='Val Loss', linestyle='--')\n",
    "plt.title('VGG-16 Scaled Loss')\n",
    "plt.xlabel('Epochs')\n",
    "plt.ylabel('Loss')\n",
    "plt.legend(loc='upper right')\n",
    "plt.grid(True)\n",
    "\n",
    "plt.show()"
   ]
  },
  {
   "cell_type": "code",
   "execution_count": null,
   "metadata": {
    "execution": {
     "iopub.execute_input": "2025-04-30T06:54:15.085101Z",
     "iopub.status.busy": "2025-04-30T06:54:15.084829Z",
     "iopub.status.idle": "2025-04-30T06:54:15.652102Z",
     "shell.execute_reply": "2025-04-30T06:54:15.651378Z",
     "shell.execute_reply.started": "2025-04-30T06:54:15.085080Z"
    },
    "trusted": true
   },
   "outputs": [],
   "source": [
    "import numpy as np\n",
    "import seaborn as sns\n",
    "import matplotlib.pyplot as plt\n",
    "from sklearn.metrics import accuracy_score, precision_score, recall_score, f1_score, confusion_matrix, classification_report\n",
    "\n",
    "# Function to calculate specificity and sensitivity for multi-class\n",
    "def specificity_score_multiclass(conf_matrix):\n",
    "    specificity_per_class = []\n",
    "    sensitivity_per_class = []\n",
    "    \n",
    "    for i in range(conf_matrix.shape[0]):  # Loop through each class\n",
    "        tn = np.sum(conf_matrix) - (np.sum(conf_matrix[i, :]) + np.sum(conf_matrix[:, i]) - conf_matrix[i, i])\n",
    "        fp = np.sum(conf_matrix[:, i]) - conf_matrix[i, i]\n",
    "        fn = np.sum(conf_matrix[i, :]) - conf_matrix[i, i]\n",
    "        tp = conf_matrix[i, i]\n",
    "        \n",
    "        specificity = tn / (tn + fp) if (tn + fp) > 0 else 0\n",
    "        sensitivity = tp / (tp + fn) if (tp + fn) > 0 else 0\n",
    "        \n",
    "        specificity_per_class.append(specificity)\n",
    "        sensitivity_per_class.append(sensitivity)\n",
    "    \n",
    "    return specificity_per_class, sensitivity_per_class\n",
    "\n",
    "# Function to print model metrics and confusion matrix\n",
    "def print_model_metrics(y_true, y_pred, model_name, class_names):\n",
    "    accuracy = accuracy_score(y_true, y_pred)\n",
    "    precision = precision_score(y_true, y_pred, average='weighted')\n",
    "    recall = recall_score(y_true, y_pred, average='weighted')\n",
    "    f1 = f1_score(y_true, y_pred, average='weighted')\n",
    "\n",
    "    # Compute confusion matrix\n",
    "    conf_matrix = confusion_matrix(y_true, y_pred)\n",
    "    \n",
    "    # Compute specificity and sensitivity for each class\n",
    "    specificity, sensitivity = specificity_score_multiclass(conf_matrix)\n",
    "    \n",
    "    # Print metrics\n",
    "    print(f\"\\nMetrics for {model_name}:\")\n",
    "    print(f\"Accuracy: {accuracy:.4f}\")\n",
    "    print(f\"Precision: {precision:.4f}\")\n",
    "    print(f\"Recall: {recall:.4f}\")\n",
    "    print(f\"F1 Score: {f1:.4f}\\n\")\n",
    "    \n",
    "    for i, class_name in enumerate(class_names):\n",
    "        print(f\"{class_name}: Specificity: {specificity[i]:.4f}, Sensitivity: {sensitivity[i]:.4f}\")\n",
    "\n",
    "    # Plot confusion matrix\n",
    "    plt.figure(figsize=(6, 4))\n",
    "    sns.heatmap(conf_matrix, annot=True, fmt='d', cmap='Blues', cbar=False, \n",
    "                xticklabels=class_names, yticklabels=class_names)\n",
    "    plt.title(f'Confusion Matrix for {model_name}')\n",
    "    plt.ylabel('Actual Label')\n",
    "    plt.xlabel('Predicted Label')\n",
    "    plt.show()\n",
    "    \n",
    "    # Print classification report\n",
    "    print(\"\\nClassification Report:\")\n",
    "    print(classification_report(y_true, y_pred, target_names=class_names))\n",
    "\n",
    "# Function to plot one image per class with predicted and true labels\n",
    "def plot_sample_images_per_class(X, y_true, y_pred, class_names):\n",
    "    plt.figure(figsize=(12, 8))\n",
    "    \n",
    "    shown_classes = set()\n",
    "    class_indices = {}\n",
    "\n",
    "    # Find one index per class\n",
    "    for idx, label in enumerate(y_true):\n",
    "        if label not in shown_classes:\n",
    "            class_indices[label] = idx\n",
    "            shown_classes.add(label)\n",
    "        if len(shown_classes) == len(class_names):\n",
    "            break\n",
    "\n",
    "    for i, (label, idx) in enumerate(class_indices.items()):\n",
    "        image = X[idx]\n",
    "        if image.shape[-1] == 1:  # Grayscale\n",
    "            image = image.squeeze()\n",
    "        plt.subplot(1, len(class_names), i + 1)\n",
    "        plt.imshow(image, cmap='gray' if len(image.shape) == 2 else None)\n",
    "        plt.axis('off')\n",
    "        plt.title(f\"True: {class_names[y_true[idx]]}\\nPred: {class_names[y_pred[idx]]}\")\n",
    "\n",
    "    plt.suptitle(\"Sample Image Per Class with Prediction\")\n",
    "    plt.tight_layout()\n",
    "    plt.show()\n",
    "\n",
    "# Define your actual class names\n",
    "class_names = [\"Pituitary\", \"No Tumor\", \"Meningioma\", \"Glioma\"]\n",
    "\n"
   ]
  },
  {
   "cell_type": "code",
   "execution_count": null,
   "metadata": {
    "execution": {
     "iopub.execute_input": "2025-04-30T06:54:15.653319Z",
     "iopub.status.busy": "2025-04-30T06:54:15.652859Z",
     "iopub.status.idle": "2025-04-30T06:54:29.268190Z",
     "shell.execute_reply": "2025-04-30T06:54:29.267282Z",
     "shell.execute_reply.started": "2025-04-30T06:54:15.653298Z"
    },
    "trusted": true
   },
   "outputs": [],
   "source": [
    "# Get predictions from your trained model\n",
    "y_pred1 = np.argmax(model_vgg16.predict(X_test), axis=1)\n",
    "y_true1 = y_test  # Assuming it's label-encoded already\n",
    "\n",
    "# Show metrics and plots\n",
    "print_model_metrics(y_true1, y_pred1, 'VGG-16', class_names)\n",
    "plot_sample_images_per_class(X_test, y_true1, y_pred1, class_names)\n"
   ]
  },
  {
   "cell_type": "code",
   "execution_count": null,
   "metadata": {
    "execution": {
     "iopub.execute_input": "2025-04-30T06:54:29.269674Z",
     "iopub.status.busy": "2025-04-30T06:54:29.269329Z",
     "iopub.status.idle": "2025-04-30T06:55:13.637100Z",
     "shell.execute_reply": "2025-04-30T06:55:13.635823Z",
     "shell.execute_reply.started": "2025-04-30T06:54:29.269650Z"
    },
    "trusted": true
   },
   "outputs": [],
   "source": [
    "# Get predictions from your trained model\n",
    "y_pred1 = np.argmax(model_vgg16_scaled.predict(X_test_resized), axis=1)\n",
    "y_true1 = y_test  # Assuming it's label-encoded already\n",
    "\n",
    "# Show metrics and plots\n",
    "print_model_metrics(y_true1, y_pred1, 'VGG-16 Scaled', class_names)\n",
    "plot_sample_images_per_class(X_test_resized, y_true1, y_pred1, class_names)\n"
   ]
  },
  {
   "cell_type": "code",
   "execution_count": null,
   "metadata": {
    "trusted": true
   },
   "outputs": [],
   "source": []
  },
  {
   "cell_type": "code",
   "execution_count": null,
   "metadata": {
    "trusted": true
   },
   "outputs": [],
   "source": []
  },
  {
   "cell_type": "code",
   "execution_count": null,
   "metadata": {
    "trusted": true
   },
   "outputs": [],
   "source": []
  }
 ],
 "metadata": {
  "kaggle": {
   "accelerator": "nvidiaTeslaT4",
   "dataSources": [
    {
     "datasetId": 3531266,
     "sourceId": 6568541,
     "sourceType": "datasetVersion"
    }
   ],
   "isGpuEnabled": true,
   "isInternetEnabled": true,
   "language": "python",
   "sourceType": "notebook"
  },
  "kernelspec": {
   "display_name": "Python 3",
   "language": "python",
   "name": "python3"
  },
  "language_info": {
   "codemirror_mode": {
    "name": "ipython",
    "version": 3
   },
   "file_extension": ".py",
   "mimetype": "text/x-python",
   "name": "python",
   "nbconvert_exporter": "python",
   "pygments_lexer": "ipython3",
   "version": "3.11.11"
  }
 },
 "nbformat": 4,
 "nbformat_minor": 4
}
